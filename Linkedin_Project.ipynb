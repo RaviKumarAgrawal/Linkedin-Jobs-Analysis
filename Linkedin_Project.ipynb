{
 "cells": [
  {
   "cell_type": "markdown",
   "id": "9c7c5837",
   "metadata": {},
   "source": [
    "#                          LINKEDIN WEB SCRAPPING"
   ]
  },
  {
   "cell_type": "markdown",
   "id": "f24a60f2",
   "metadata": {},
   "source": [
    "## IMPORTING LIBRARIES"
   ]
  },
  {
   "cell_type": "code",
   "execution_count": 1,
   "id": "a4618cb6",
   "metadata": {},
   "outputs": [],
   "source": [
    "# Importing Libraries\n",
    "import pandas as pd\n",
    "import time\n",
    "import selenium\n",
    "from selenium import webdriver as wb"
   ]
  },
  {
   "cell_type": "markdown",
   "id": "e75cbe9e",
   "metadata": {},
   "source": [
    "## OPENING AN AUTOMATED CHROME BROWSER"
   ]
  },
  {
   "cell_type": "code",
   "execution_count": null,
   "id": "dff924b2",
   "metadata": {},
   "outputs": [],
   "source": [
    "# Opening an automated chrome browser :\n",
    "\n",
    "# Taking input from user - path for the chromedriver :\n",
    "path = input(\"Enter your path for chromedriver-exe file\")\n",
    "obj = wb.Chrome(path)\n",
    "\n",
    "# Maximizing the Autometed Window :\n",
    "obj.maximize_window() \n",
    "\n",
    "# Hitting the Linkdin website in autometed chrome :\n",
    "obj.get('https://www.linkedin.com/jobs/search/?currentJobId=3427402379')\n",
    "time.sleep(3)\n"
   ]
  },
  {
   "cell_type": "markdown",
   "id": "fa433763",
   "metadata": {},
   "source": [
    "## SIGINING-IN TO OUR LINKEDIN PAGE"
   ]
  },
  {
   "cell_type": "code",
   "execution_count": null,
   "id": "612ee2b0",
   "metadata": {},
   "outputs": [],
   "source": [
    "#  Below Function is used to Signing-In to our Linkedin page:\n",
    "\n",
    "def func_To_Login_In_Linkedin(email, password):\n",
    "    # Entering the sign-in page :\n",
    "    sign_btn = obj.find_element('xpath' , '/html/body/div[1]/header/nav/div/a[2]')\n",
    "    sign_btn.click();\n",
    "    \n",
    "    # Giving time to load that page :\n",
    "    time.sleep(2)\n",
    "    \n",
    "    # Entering Email\n",
    "    email = obj.find_element('xpath' , '/html/body/div/main/div[2]/div[1]/form/div[1]/input');\n",
    "    email.send_keys(email)\n",
    "    \n",
    "    # Entering Password\n",
    "    password = obj.find_element('xpath' , '/html/body/div/main/div[2]/div[1]/form/div[2]/input');\n",
    "    password.send_keys(password)\n",
    "    \n",
    "    # Entering the next page by clicking on the sign-in button\n",
    "    button = obj.find_element('xpath' , '/html/body/div/main/div[2]/div[1]/form/div[3]/button');\n",
    "    button.click()"
   ]
  },
  {
   "cell_type": "markdown",
   "id": "5ec9e687",
   "metadata": {},
   "source": [
    "## TAKING INPUTS FROM USERS \n"
   ]
  },
  {
   "cell_type": "code",
   "execution_count": null,
   "id": "f34ee9f2",
   "metadata": {},
   "outputs": [],
   "source": [
    "# Taking input from user to enter their email address to login the linkedin page :\n",
    "email = input(\"Enter your emial-address :\")\n",
    "\n",
    "# Taking input from the uswer to enter the password to login the linkedin page :\n",
    "password = input(\"Enter your password :\")\n",
    "\n",
    "# Calling the function to log-in to linkedin page :\n",
    "func_To_Login_In_Linkedin(email, password)\n",
    "time.sleep(2)"
   ]
  },
  {
   "cell_type": "markdown",
   "id": "d094e44f",
   "metadata": {},
   "source": [
    "## DEFINING VARIABLES TO STORE THE SCRAPED DATA"
   ]
  },
  {
   "cell_type": "code",
   "execution_count": null,
   "id": "b1cf167a",
   "metadata": {},
   "outputs": [],
   "source": [
    "# defining our list - dataset will be stored here :\n",
    "data = []\n",
    "\n",
    "# Defining a Empty Dictionary To store the data\n",
    "temp = {\n",
    "            \"title\":\"not found\",\n",
    "            \"followers\" : \"not found\",\n",
    "            \"applicant\":\"not found\",\n",
    "            \"ttype\":\"not found\",\n",
    "            \"company\":\"not found\",\n",
    "            \"location\":\"not found\",\n",
    "            \"emp\":\"not found\"\n",
    "            \"Inudstry\": \"not found\"\n",
    "            \"Involment\": \"not found\"\n",
    "            }"
   ]
  },
  {
   "cell_type": "markdown",
   "id": "5236f573",
   "metadata": {},
   "source": [
    "## SCRAPING THE DATA FOR A SINGLE PAGE"
   ]
  },
  {
   "cell_type": "code",
   "execution_count": null,
   "id": "5156c180",
   "metadata": {},
   "outputs": [],
   "source": [
    "# Function for Scrapping the Data For a Single-Page\n",
    "\n",
    "def Scrape_One_Page_Data():\n",
    "    \n",
    "    # This Loop will scrape the Diffrent Jobs:\n",
    "    for element in range(2,24):\n",
    "        \n",
    "        try:\n",
    "            # This Click will Iterate through diffrent jobs and scrape data :\n",
    "            first = obj.find_element('xpath', f'/html/body/div[5]/div[3]/div[4]/div/div/main/div/section[1]/div/ul/li[{element}]/div/div[1]/div[1]/div[2]/div[1]/a')\n",
    "            time.sleep(2)\n",
    "            first.click()\n",
    "            \n",
    "            # Giving the time to load the data \n",
    "            time.sleep(4)\n",
    "            \n",
    "            # Extracting the Title of the job :\n",
    "            try:\n",
    "                title = obj.find_element('xpath', '/html/body/div[5]/div[3]/div[4]/div/div/main/div/section[2]/div/div[2]/div[1]/div/div[1]/div/div[1]/div[1]/a/h2')\n",
    "                \n",
    "                # Extracting only the Text part :\n",
    "                temp[\"title\"] = title.text\n",
    "            except:\n",
    "                pass\n",
    "            \n",
    "            # Extracting numbers of Followers of a company :\n",
    "            try:\n",
    "                followers = obj.find_element('xpath','/html/body/div[5]/div[3]/div[4]/div/div/main/div/section[2]/div/div[2]/div[1]/div/section/section/div[1]/div[1]/div/div[2]/div[2]')\n",
    "                \n",
    "                # Extracting only the Text part :\n",
    "                temp[\"followers\"] = followers.text\n",
    "            except:\n",
    "                pass\n",
    "            \n",
    "            # Extracting number of Applicants applied for that Particular Job :\n",
    "            try:\n",
    "                applicant = obj.find_element('xpath', '/html/body/div[5]/div[3]/div[4]/div/div/main/div/section[2]/div/div[2]/div[1]/div/div[1]/div/div[1]/div[1]/div[1]/span[2]/span[2]/span')\n",
    "                \n",
    "                # Extracting only the Text part :\n",
    "                temp[\"applicant\"] = applicant.text\n",
    "            except:\n",
    "                pass\n",
    "            \n",
    "            # Extracting the Level of the Job whether (entry, associate, manager, etc) :\n",
    "            try:\n",
    "                ttype = obj.find_element('xpath', '/html/body/div[5]/div[3]/div[4]/div/div/main/div/section[2]/div/div[2]/div[1]/div/div[1]/div/div[1]/div[1]/div[2]/ul/li[1]/span')\n",
    "                \n",
    "                # Extracting only the Text part :\n",
    "                temp[\"ttype\"] = ttype.text\n",
    "            except:\n",
    "                pass\n",
    "            \n",
    "            # Extracting the name of the Company :\n",
    "            try:\n",
    "                company = obj.find_element('xpath', '/html/body/div[5]/div[3]/div[4]/div/div/main/div/section[2]/div/div[2]/div[1]/div/div[1]/div/div[1]/div[1]/div[1]/span[1]/span[1]/a')\n",
    "                \n",
    "                # Extracting only the Text part :\n",
    "                temp[\"company\"] = company.text\n",
    "            except:\n",
    "                pass\n",
    "            \n",
    "            # Extracting the Location where the job is based :\n",
    "            try:\n",
    "                location = obj.find_element('xpath', '/html/body/div[5]/div[3]/div[4]/div/div/main/div/section[2]/div/div[2]/div[1]/div/div[1]/div/div[1]/div[1]/div[1]/span[1]/span[2]')\n",
    "                \n",
    "                # Extracting only the Text part :\n",
    "                temp[\"location\"] = location.text\n",
    "            except:\n",
    "                pass\n",
    "            \n",
    "            # Extracting the number of Employees that works in that Company :\n",
    "            try:\n",
    "                emp = obj.find_element('xpath', '/html/body/div[5]/div[3]/div[4]/div/div/main/div/section[2]/div/div[2]/div[1]/div/div[1]/div/div[1]/div[1]/div[2]/ul/li[2]/span')\n",
    "                \n",
    "                # Extracting only the Text part :\n",
    "                temp[\"emp\"] = emp.text\n",
    "            except:\n",
    "                pass\n",
    "            \n",
    "            # Extracting the type of the Industry that company belong-to :\n",
    "            try:\n",
    "                industry = obj.find_element('xpath', '/html/body/div[1]/div/section/div[2]/div/section[1]/div/ul/li[4]/span')\n",
    "                \n",
    "                # Extracting only the Text part :\n",
    "                temp[\"Inudstry\"] = industry.text\n",
    "            except:\n",
    "                pass\n",
    "            \n",
    "            # Extracting the Involment required for the job (full-time or partime, etc) :\n",
    "            try:\n",
    "                invol = obj.find_element('xpath', '/html/body/div[1]/div/section/div[2]/div/section[1]/div/ul/li[2]/span')\n",
    "                \n",
    "                # Extracting only the Text part :\n",
    "                temp[\"Involment\"] = invol.text\n",
    "            except:\n",
    "                pass\n",
    "            \n",
    "\n",
    "            # Appending our scraped data to our main list :\n",
    "            data.append(temp)\n",
    "\n",
    "        except:\n",
    "            pass"
   ]
  },
  {
   "cell_type": "markdown",
   "id": "8470876b",
   "metadata": {},
   "source": [
    "## SCRAPPING THE DATA FOR ALL PAGES"
   ]
  },
  {
   "cell_type": "code",
   "execution_count": null,
   "id": "76d3cb8a",
   "metadata": {},
   "outputs": [],
   "source": [
    "# Enter the number of pages you want extract the data :\n",
    "pages =  int(input(\"Enter the number of pages :\"))\n",
    "\n",
    "# Running this loop to extract data from multiple pages :\n",
    "for ele in range(1, pages + 1):\n",
    "    \n",
    "    # Calling the func to Extract/Scrape data for Individual Page :\n",
    "    Scrape_One_Page_Data()\n",
    "    \n",
    "    # time to load the data of next page :\n",
    "    time.sleep(5)\n",
    "    \n",
    "    # Hitting the URL of the next page to Extract/Scrape the Data :\n",
    "    obj.get(f'https://www.linkedin.com/jobs/search/?currentJobId=3427402379&start={ele*26}')\n",
    " "
   ]
  },
  {
   "cell_type": "markdown",
   "id": "331463da",
   "metadata": {},
   "source": [
    "## ENTERING THE DATA TO OUR BELOW CREATED LISTS"
   ]
  },
  {
   "cell_type": "code",
   "execution_count": 4,
   "id": "c7778679",
   "metadata": {},
   "outputs": [],
   "source": [
    "# Defining n number of list to store our data :\n",
    "title_list = []\n",
    "company=[]\n",
    "followers = []\n",
    "job_type =[]\n",
    "emp = []\n",
    "location = []\n",
    "applicant = []\n",
    "Industry = []\n",
    "Involment = []\n",
    "\n",
    "# Running this loop to extract our data :\n",
    "for a in data:\n",
    "    title_list.append(a[\"title\"])\n",
    "    company.append(a[\"company\"])\n",
    "    followers.append(a[\"followers\"])\n",
    "    job_type.append(a[\"ttype\"])\n",
    "    emp.append(a[\"emp\"])\n",
    "    location.append(a[\"location\"])\n",
    "    applicant.append(a[\"applicant\"])"
   ]
  },
  {
   "cell_type": "markdown",
   "id": "3803bf2a",
   "metadata": {},
   "source": [
    "##  CREATING A DATAFRAME TO VIEW OUR DATASET"
   ]
  },
  {
   "cell_type": "code",
   "execution_count": 5,
   "id": "b5e2f1ed",
   "metadata": {},
   "outputs": [],
   "source": [
    "# Creating a pandas dataframe to view our dataset :\n",
    "df=pd.DataFrame({ \"title_list\":title_list,\n",
    "                  \"company_name\":company,\n",
    "                  \"followers\" :followers,\n",
    "                  \"job_type\":job_type,\n",
    "                  \"employee\" : emp,\n",
    "                  \"location\" : location,\n",
    "                  \"applicant\" :applicant,\n",
    "                  \"Industry\" : Industry,\n",
    "                  \"Involment\" : Involment })\n"
   ]
  },
  {
   "cell_type": "markdown",
   "id": "ed7e48ec",
   "metadata": {},
   "source": [
    "## CREATING A COMMA-SEPREATED FILE TO DOWNLOAD OUR DATASET"
   ]
  },
  {
   "cell_type": "code",
   "execution_count": null,
   "id": "35c57efe",
   "metadata": {},
   "outputs": [],
   "source": [
    "df.to_csv(\"All_data.csv\")"
   ]
  }
 ],
 "metadata": {
  "kernelspec": {
   "display_name": "Python 3 (ipykernel)",
   "language": "python",
   "name": "python3"
  },
  "language_info": {
   "codemirror_mode": {
    "name": "ipython",
    "version": 3
   },
   "file_extension": ".py",
   "mimetype": "text/x-python",
   "name": "python",
   "nbconvert_exporter": "python",
   "pygments_lexer": "ipython3",
   "version": "3.10.5"
  }
 },
 "nbformat": 4,
 "nbformat_minor": 5
}
